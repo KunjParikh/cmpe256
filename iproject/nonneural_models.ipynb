{
 "cells": [
  {
   "cell_type": "code",
   "execution_count": 12,
   "metadata": {
    "collapsed": true
   },
   "outputs": [],
   "source": [
    "import cPickle as pickle\n",
    "import numpy as np\n",
    "from sklearn.ensemble import RandomForestClassifier\n",
    "from sklearn.metrics import roc_auc_score"
   ]
  },
  {
   "cell_type": "code",
   "execution_count": 1,
   "metadata": {
    "collapsed": true
   },
   "outputs": [],
   "source": [
    "# YOU MUST SET THIS TO THE ROOT DATA DIRECTORY FROM THE DOWNLOADED ZIP FILE\n",
    "DATA_DIR = \"/dfs/scratch0/reddit/conflict/prediction/\""
   ]
  },
  {
   "cell_type": "markdown",
   "metadata": {},
   "source": [
    "## Data loading and pre-processing...."
   ]
  },
  {
   "cell_type": "code",
   "execution_count": 4,
   "metadata": {
    "collapsed": false
   },
   "outputs": [],
   "source": [
    "# loading handcrafted features\n",
    "meta_features = {}\n",
    "meta_labels = {}\n",
    "with open(DATA_DIR+\"/detailed_data/handcrafted_features.tsv\") as fp:\n",
    "    for line in fp:\n",
    "        info = line.split()\n",
    "        meta_features[info[0]] = np.array(map(float, info[-1].split(\",\")))\n",
    "        meta_labels[info[0]] = 1 if info[1] == \"burst\" else 0"
   ]
  },
  {
   "cell_type": "code",
   "execution_count": 6,
   "metadata": {
    "collapsed": true
   },
   "outputs": [],
   "source": [
    "# loading the user, source, and target community embeddings for all examples\n",
    "with open(DATA_DIR + \"/detailed_data/full_ids.txt\") as fp:\n",
    "    ids = {id.strip():i for i, id in enumerate(fp.readlines())}\n",
    "all_embeds = np.load(open(DATA_DIR + \"/detailed_data/full_embeds.npy\"))"
   ]
  },
  {
   "cell_type": "code",
   "execution_count": 9,
   "metadata": {
    "collapsed": true
   },
   "outputs": [],
   "source": [
    "# loading the post embeddings from the LSTM \n",
    "lstm_embeds = np.load(open(DATA_DIR + \"/detailed_data/lstm_embeds.npy\"))\n",
    "lstm_ids = pickle.load(open(DATA_DIR + \"/detailed_data/lstm_embeds-ids.pkl\"))\n",
    "lstm_ids = {id:i for i, id in enumerate(lstm_ids)}"
   ]
  },
  {
   "cell_type": "code",
   "execution_count": 8,
   "metadata": {
    "collapsed": false
   },
   "outputs": [],
   "source": [
    "# loading preprocessed lstm data to ensure identical train/val/test splits\n",
    "train_data = pickle.load(open(DATA_DIR + \"/preprocessed_train_data.pkl\"))\n",
    "val_data = pickle.load(open(DATA_DIR + \"/preprocessed_val_data.pkl\"))\n",
    "test_data = pickle.load(open(DATA_DIR + \"/preprocessed_test_data.pkl\"))"
   ]
  },
  {
   "cell_type": "code",
   "execution_count": 10,
   "metadata": {
    "collapsed": true
   },
   "outputs": [],
   "source": [
    "# flattening the preprocessed LSTM data (no need for minibatching here....)\n",
    "def flatten(data):\n",
    "    ids, text, users, subreddits, lengths,sfs, labels = [], [], [], [], [], [], []\n",
    "    for batch in data:\n",
    "        bids, btext, busers, bsubreddits, blengths, bsfs, blabels = batch\n",
    "        ids.extend(bids)\n",
    "        text.extend(btext.numpy().tolist())\n",
    "        users.extend(busers.numpy().tolist())\n",
    "        subreddits.extend(bsubreddits.numpy().tolist())\n",
    "        lengths.extend(blengths)\n",
    "        labels.extend(blabels)\n",
    "        sfs.extend(bsfs)\n",
    "    return (ids, text, users, subreddits, lengths, labels)\n",
    "flat_train_data = flatten(train_data)\n",
    "flat_val_data = flatten(val_data)\n",
    "flat_test_data = flatten(test_data)"
   ]
  },
  {
   "cell_type": "code",
   "execution_count": 11,
   "metadata": {
    "collapsed": true
   },
   "outputs": [],
   "source": [
    "train_X = np.stack([np.concatenate([meta_features[i], all_embeds[ids[i]], lstm_embeds[lstm_ids[i]]]) for i in flat_train_data[0]])\n",
    "val_X =  np.stack([np.concatenate([meta_features[i], all_embeds[ids[i]], lstm_embeds[lstm_ids[i]]]) for i in flat_val_data[0] if i in meta_features])\n",
    "test_X =  np.stack([np.concatenate([meta_features[i],all_embeds[ids[i]], lstm_embeds[lstm_ids[i]]]) for i in flat_test_data[0] if i in meta_features])\n",
    "\n",
    "train_Y = np.stack([meta_labels[i] for i in flat_train_data[0] if i in meta_features])\n",
    "val_Y =  np.stack([meta_labels[i] for i in flat_val_data[0] if i in meta_features])\n",
    "test_Y =  np.stack([meta_labels[i] for i in flat_test_data[0] if i in meta_features])"
   ]
  },
  {
   "cell_type": "markdown",
   "metadata": {},
   "source": [
    "## Running the models"
   ]
  },
  {
   "cell_type": "markdown",
   "metadata": {},
   "source": [
    "#### Baseline model "
   ]
  },
  {
   "cell_type": "code",
   "execution_count": 20,
   "metadata": {
    "collapsed": false
   },
   "outputs": [
    {
     "data": {
      "text/plain": [
       "RandomForestClassifier(bootstrap=True, class_weight=None, criterion='gini',\n",
       "            max_depth=None, max_features='auto', max_leaf_nodes=None,\n",
       "            min_impurity_decrease=0.0, min_impurity_split=None,\n",
       "            min_samples_leaf=1, min_samples_split=2,\n",
       "            min_weight_fraction_leaf=0.0, n_estimators=500, n_jobs=100,\n",
       "            oob_score=False, random_state=0, verbose=0, warm_start=False)"
      ]
     },
     "execution_count": 20,
     "metadata": {},
     "output_type": "execute_result"
    }
   ],
   "source": [
    "# First we run the Random Forest with only the metadata/handcrafted features...\n",
    "baseline_mod = RandomForestClassifier(n_estimators=500, n_jobs=100, random_state=0)\n",
    "# note that the first 263 features are the handcrafted ones... \n",
    "baseline_mod.fit(train_X[:, :263], train_Y)"
   ]
  },
  {
   "cell_type": "code",
   "execution_count": 21,
   "metadata": {
    "collapsed": false
   },
   "outputs": [
    {
     "name": "stdout",
     "output_type": "stream",
     "text": [
      "0.6823965206409768\n"
     ]
    }
   ],
   "source": [
    "# For reference, on the authors server we get 0.682\n",
    "print roc_auc_score(val_Y, baseline_mod.predict_proba(val_X[:, :263])[:,1])"
   ]
  },
  {
   "cell_type": "code",
   "execution_count": 22,
   "metadata": {
    "collapsed": false
   },
   "outputs": [
    {
     "name": "stdout",
     "output_type": "stream",
     "text": [
      "0.6656650084718871\n"
     ]
    }
   ],
   "source": [
    "# For reference, on the authors server we get 0.667\n",
    "print roc_auc_score(test_Y, baseline_mod.predict_proba(test_X[:, :263])[:,1])"
   ]
  },
  {
   "cell_type": "code",
   "execution_count": 23,
   "metadata": {
    "collapsed": false
   },
   "outputs": [
    {
     "data": {
      "text/plain": [
       "RandomForestClassifier(bootstrap=True, class_weight=None, criterion='gini',\n",
       "            max_depth=None, max_features='auto', max_leaf_nodes=None,\n",
       "            min_impurity_decrease=0.0, min_impurity_split=None,\n",
       "            min_samples_leaf=1, min_samples_split=2,\n",
       "            min_weight_fraction_leaf=0.0, n_estimators=500, n_jobs=100,\n",
       "            oob_score=False, random_state=0, verbose=0, warm_start=False)"
      ]
     },
     "execution_count": 23,
     "metadata": {},
     "output_type": "execute_result"
    }
   ],
   "source": [
    "# First we run the Random Forest with only the metadata/handcrafted features...\n",
    "ensemble_mod = RandomForestClassifier(n_estimators=500, n_jobs=100, random_state=0)\n",
    "# note that the first 263 features are the handcrafted ones... \n",
    "ensemble_mod.fit(train_X[:, :], train_Y)"
   ]
  },
  {
   "cell_type": "code",
   "execution_count": 24,
   "metadata": {
    "collapsed": false
   },
   "outputs": [
    {
     "name": "stdout",
     "output_type": "stream",
     "text": [
      "0.7648275951540929\n"
     ]
    }
   ],
   "source": [
    "# For reference, on the authors server we get 0.765\n",
    "print roc_auc_score(val_Y, ensemble_mod.predict_proba(val_X[:, :])[:,1])"
   ]
  },
  {
   "cell_type": "code",
   "execution_count": 25,
   "metadata": {
    "collapsed": false
   },
   "outputs": [
    {
     "name": "stdout",
     "output_type": "stream",
     "text": [
      "0.7564078921461626\n"
     ]
    }
   ],
   "source": [
    "# For reference, on the authors server we get 0.756\n",
    "print roc_auc_score(test_Y, ensemble_mod.predict_proba(test_X[:, :])[:,1])"
   ]
  }
 ],
 "metadata": {
  "kernelspec": {
   "display_name": "Python 2",
   "language": "python",
   "name": "python2"
  },
  "language_info": {
   "codemirror_mode": {
    "name": "ipython",
    "version": 2
   },
   "file_extension": ".py",
   "mimetype": "text/x-python",
   "name": "python",
   "nbconvert_exporter": "python",
   "pygments_lexer": "ipython2",
   "version": "2.7.13"
  }
 },
 "nbformat": 4,
 "nbformat_minor": 2
}
